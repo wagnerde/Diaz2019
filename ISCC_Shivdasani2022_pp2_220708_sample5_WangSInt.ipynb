{
  "nbformat": 4,
  "nbformat_minor": 0,
  "metadata": {
    "colab": {
      "provenance": [],
      "machine_shape": "hm",
      "include_colab_link": true
    },
    "kernelspec": {
      "display_name": "Python 3",
      "language": "python",
      "name": "python3"
    },
    "language_info": {
      "codemirror_mode": {
        "name": "ipython",
        "version": 3
      },
      "file_extension": ".py",
      "mimetype": "text/x-python",
      "name": "python",
      "nbconvert_exporter": "python",
      "pygments_lexer": "ipython3",
      "version": "3.7.9"
    }
  },
  "cells": [
    {
      "cell_type": "markdown",
      "metadata": {
        "id": "view-in-github",
        "colab_type": "text"
      },
      "source": [
        "<a href=\"https://colab.research.google.com/github/wagnerde/Diaz2019/blob/master/ISCC_Shivdasani2022_pp2_220708_sample5_WangSInt.ipynb\" target=\"_parent\"><img src=\"https://colab.research.google.com/assets/colab-badge.svg\" alt=\"Open In Colab\"/></a>"
      ]
    },
    {
      "cell_type": "markdown",
      "metadata": {
        "id": "jSB2BVfibCWW"
      },
      "source": [
        "# ISCC Shivdasani 2022: Analysis\n",
        "Analyze cNMF spectra calculated for: <br>\n",
        "**sample5-WantSInt** <br>\n",
        "\n",
        "This notebook analyzes a cNMF run performed on 220705\n"
      ]
    },
    {
      "cell_type": "markdown",
      "metadata": {
        "id": "CmNNUf5Xlh9g"
      },
      "source": [
        "## Environment Setup (220614)\n",
        "Install software from pip, apt, and Github.  Load modules, configure workspace settings."
      ]
    },
    {
      "cell_type": "code",
      "source": [
        "# Environment Setup: verified working on 220614\n",
        "\n",
        "# print python version to screen\n",
        "!python --version\n",
        "\n",
        "# pip install software\n",
        "!pip install -q scanpy==1.8.2 bbknn==1.5.1 leidenalg==0.8.10 scrublet==0.2.3 wget==3.2 \n",
        "!pip install -q pyyaml==5.3.1 fastcluster==1.1.26 cnmf==1.3.2\n",
        "\n",
        "# apt-get install software\n",
        "!sudo apt-get install -qq lftp\n",
        "\n",
        "# import python packages\n",
        "import os, sys, wget, pickle\n",
        "import bbknn\n",
        "import scrublet as scr\n",
        "import scanpy as sc\n",
        "import pandas as pd\n",
        "import numpy as np\n",
        "import seaborn as sns\n",
        "import matplotlib.pyplot as plt\n",
        "\n",
        "# import helper functions from Github\n",
        "if not os.path.exists('scTools-py'): \n",
        "  !git clone https://github.com/wagnerde/scTools-py.git\n",
        "sys.path.append('scTools-py/')\n",
        "import scTools_dew as dew"
      ],
      "metadata": {
        "colab": {
          "base_uri": "https://localhost:8080/"
        },
        "id": "usAiDkgjhDWs",
        "outputId": "8c6c8845-c253-45a5-b5b9-cb39038ebba4"
      },
      "execution_count": null,
      "outputs": [
        {
          "output_type": "stream",
          "name": "stdout",
          "text": [
            "Python 3.7.13\n",
            "\u001b[K     |████████████████████████████████| 2.0 MB 11.7 MB/s \n",
            "\u001b[K     |████████████████████████████████| 1.3 MB 57.1 MB/s \n",
            "\u001b[K     |████████████████████████████████| 88 kB 6.4 MB/s \n",
            "\u001b[K     |████████████████████████████████| 96 kB 3.1 MB/s \n",
            "\u001b[K     |████████████████████████████████| 646 kB 46.4 MB/s \n",
            "\u001b[K     |████████████████████████████████| 1.1 MB 67.2 MB/s \n",
            "\u001b[K     |████████████████████████████████| 3.1 MB 49.8 MB/s \n",
            "\u001b[K     |████████████████████████████████| 63 kB 2.3 MB/s \n",
            "\u001b[?25h  Building wheel for wget (setup.py) ... \u001b[?25l\u001b[?25hdone\n",
            "  Building wheel for umap-learn (setup.py) ... \u001b[?25l\u001b[?25hdone\n",
            "  Building wheel for pynndescent (setup.py) ... \u001b[?25l\u001b[?25hdone\n",
            "  Building wheel for annoy (setup.py) ... \u001b[?25l\u001b[?25hdone\n",
            "  Building wheel for sinfo (setup.py) ... \u001b[?25l\u001b[?25hdone\n",
            "\u001b[K     |████████████████████████████████| 269 kB 14.0 MB/s \n",
            "\u001b[K     |████████████████████████████████| 155 kB 68.9 MB/s \n",
            "\u001b[?25h  Installing build dependencies ... \u001b[?25l\u001b[?25hdone\n",
            "  Getting requirements to build wheel ... \u001b[?25l\u001b[?25hdone\n",
            "    Preparing wheel metadata ... \u001b[?25l\u001b[?25hdone\n",
            "  Building wheel for pyyaml (setup.py) ... \u001b[?25l\u001b[?25hdone\n",
            "  Building wheel for cnmf (PEP 517) ... \u001b[?25l\u001b[?25hdone\n",
            "debconf: unable to initialize frontend: Dialog\n",
            "debconf: (No usable dialog-like program is installed, so the dialog based frontend cannot be used. at /usr/share/perl5/Debconf/FrontEnd/Dialog.pm line 76, <> line 2.)\n",
            "debconf: falling back to frontend: Readline\n",
            "debconf: unable to initialize frontend: Readline\n",
            "debconf: (This frontend requires a controlling tty.)\n",
            "debconf: falling back to frontend: Teletype\n",
            "dpkg-preconfigure: unable to re-open stdin: \n",
            "Selecting previously unselected package netbase.\n",
            "(Reading database ... 155639 files and directories currently installed.)\n",
            "Preparing to unpack .../archives/netbase_5.4_all.deb ...\n",
            "Unpacking netbase (5.4) ...\n",
            "Selecting previously unselected package lftp.\n",
            "Preparing to unpack .../lftp_4.8.1-1ubuntu0.2_amd64.deb ...\n",
            "Unpacking lftp (4.8.1-1ubuntu0.2) ...\n",
            "Setting up netbase (5.4) ...\n",
            "Setting up lftp (4.8.1-1ubuntu0.2) ...\n",
            "Processing triggers for mime-support (3.60ubuntu1) ...\n",
            "Processing triggers for man-db (2.8.3-2ubuntu0.1) ...\n",
            "Processing triggers for hicolor-icon-theme (0.17-2) ...\n",
            "Cloning into 'scTools-py'...\n",
            "remote: Enumerating objects: 278, done.\u001b[K\n",
            "remote: Counting objects: 100% (135/135), done.\u001b[K\n",
            "remote: Compressing objects: 100% (52/52), done.\u001b[K\n",
            "remote: Total 278 (delta 106), reused 110 (delta 83), pack-reused 143\u001b[K\n",
            "Receiving objects: 100% (278/278), 71.95 KiB | 7.19 MiB/s, done.\n",
            "Resolving deltas: 100% (169/169), done.\n"
          ]
        }
      ]
    },
    {
      "cell_type": "markdown",
      "source": [
        "## Download Preprocessed Data from Box"
      ],
      "metadata": {
        "id": "Xtm6VhKi4o1N"
      }
    },
    {
      "cell_type": "code",
      "source": [
        "# wget files from static Box link \n",
        "!wget -q --show-progress https://ucsf.box.com/shared/static/ocpr9sfmh17lzh5ydagnorfrkhnhbcny.h5ad -O WangSIntCounts_raw.220701.h5ad\n",
        "!wget -q --show-progress https://ucsf.box.com/shared/static/rp9lciy3ffitbegylhwh6gb51xc01jch.gz -O WangSIntCounts.220701.h5ad.cNMF.tar.gz\n",
        "!tar -xzf WangSIntCounts.220701.h5ad.cNMF.tar.gz"
      ],
      "metadata": {
        "id": "SAqBmztJx0Bb",
        "colab": {
          "base_uri": "https://localhost:8080/"
        },
        "outputId": "3cf57810-1412-44d9-9755-ee6b94aa9df2"
      },
      "execution_count": null,
      "outputs": [
        {
          "output_type": "stream",
          "name": "stdout",
          "text": [
            "WangSIntCounts_raw. 100%[===================>] 246.98M  25.5MB/s    in 10s     \n",
            "WangSIntCounts.2207 100%[===================>] 652.35M  25.3MB/s    in 37s     \n"
          ]
        }
      ]
    },
    {
      "cell_type": "code",
      "source": [
        "# move cNMF output back to its \"normal\" location\n",
        "!mv /content/content/cNMF-output/ /content/"
      ],
      "metadata": {
        "id": "DkVu62ml5dxo"
      },
      "execution_count": null,
      "outputs": []
    },
    {
      "cell_type": "code",
      "source": [
        "# cNMF settings (modify as needed)\n",
        "cNMF_n_iter = 100 \n",
        "cNMF_n_var_genes = 2000 \n",
        "cNMF_output_dir = './cNMF-output'\n",
        "cNMF_run_name = 'Shiv2022-WangSInt-cNMF'\n",
        "cNMF_k_range = [12, 14, 16, 18, 20, 22, 24, 26, 28, 30, 32, 34, 36, 38]\n",
        "cNMF_rand_seed = 14 \n",
        "cNMF_input_data = 'WangSIntCounts_raw.220701.h5ad' "
      ],
      "metadata": {
        "id": "XcKTD2qX4gt9"
      },
      "execution_count": null,
      "outputs": []
    },
    {
      "cell_type": "code",
      "source": [
        "from cnmf import cNMF\n",
        "cnmf_obj = cNMF(output_dir=cNMF_output_dir, name=cNMF_run_name)"
      ],
      "metadata": {
        "id": "jZL3LY3u4qw-"
      },
      "execution_count": null,
      "outputs": []
    },
    {
      "cell_type": "code",
      "source": [
        "# Choose consensus parameters (modify as needed)\n",
        "cNMF_k = 16\n",
        "cNMF_density_thresh = 0.1\n",
        "cNMF_local_neighborhood_size = 0.3\n",
        "\n",
        "# Run Consensus \n",
        "cnmf_obj.consensus(k=cNMF_k, density_threshold=cNMF_density_thresh, local_neighborhood_size=cNMF_local_neighborhood_size)"
      ],
      "metadata": {
        "colab": {
          "base_uri": "https://localhost:8080/",
          "height": 734
        },
        "id": "5WhGy3fO4NVq",
        "outputId": "1a6fe11d-4e9c-4bd7-bfc4-d643761d2163"
      },
      "execution_count": null,
      "outputs": [
        {
          "output_type": "stream",
          "name": "stderr",
          "text": [
            "/usr/local/lib/python3.7/dist-packages/cnmf/cnmf.py:700: RuntimeWarning: invalid value encountered in true_divide\n",
            "  norm_tpm = (np.array(tpm.X.todense()) - tpm_stats['__mean'].values) / tpm_stats['__std'].values\n"
          ]
        },
        {
          "output_type": "display_data",
          "data": {
            "text/plain": [
              "<Figure size 1080x684 with 5 Axes>"
            ],
            "image/png": "[encoded data removed]"
          },
          "metadata": {
            "needs_background": "light"
          }
        }
      ]
    },
    {
      "cell_type": "markdown",
      "source": [
        "## Upload Results to BOX (cNMF w/ consensus)"
      ],
      "metadata": {
        "id": "DC1jw36snQrA"
      }
    },
    {
      "cell_type": "code",
      "metadata": {
        "id": "swy7R8be8poo"
      },
      "source": [
        "# Create a folder containing the h5ad and cNMF results\n",
        "!mkdir -p upload_to_Box\n",
        "!tar -czf /content/upload_to_Box/WangSIntCounts.220701.h5ad.cNMF.tar.gz /content/cNMF-output/"
      ],
      "execution_count": null,
      "outputs": []
    },
    {
      "cell_type": "code",
      "metadata": {
        "id": "WAd7R0c98pop"
      },
      "source": [
        "# Prepare LFTP shell command\n",
        "local_dir = '/content/upload_to_Box/'\n",
        "remote_box_dir = '/Box_Home/WAGNER_LAB_SHARED/Dan_Wagner/ANALYSES/Shivdasani2022/220701_sample5-WangSInt/'\n",
        "box_username = 'XXX,XXX' \n",
        "\n",
        "lftp_cmd = 'lftp -e \"mirror -R %s %s; bye\" -u %s ftps://ftp.box.com' % (local_dir, remote_box_dir, box_username)\n",
        "\n",
        "# Execute shell command\n",
        "print('Executing:\\n %s' % (lftp_cmd))\n",
        "! {lftp_cmd}"
      ],
      "execution_count": null,
      "outputs": []
    }
  ]
}