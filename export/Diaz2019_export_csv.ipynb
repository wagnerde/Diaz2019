{
 "cells": [
  {
   "cell_type": "markdown",
   "metadata": {},
   "source": [
    "# Exporting Diaz2019 CSV Files"
   ]
  },
  {
   "cell_type": "markdown",
   "metadata": {},
   "source": [
    "Code for exporting CSV files"
   ]
  },
  {
   "cell_type": "markdown",
   "metadata": {},
   "source": [
    "### Import Packages"
   ]
  },
  {
   "cell_type": "code",
   "execution_count": 1,
   "metadata": {},
   "outputs": [],
   "source": [
    "# Import packages\n",
    "import pandas as pd\n",
    "import numpy as np\n",
    "import matplotlib.pyplot as plt\n",
    "import scanpy as sc\n",
    "import scipy.sparse\n",
    "import scrublet as scr\n",
    "import os\n",
    "import sys\n",
    "import pickle\n",
    "\n",
    "sys.path.append('../')\n",
    "import helper_functions_dew as dew"
   ]
  },
  {
   "cell_type": "code",
   "execution_count": 2,
   "metadata": {},
   "outputs": [
    {
     "name": "stdout",
     "output_type": "stream",
     "text": [
      "scanpy==0+unknown anndata==0.6.19 umap==0.3.8 numpy==1.16.2 scipy==1.2.1 pandas==0.24.2 scikit-learn==0.20.3 statsmodels==0.9.0 python-igraph==0.7.1 louvain==0.6.1 \n"
     ]
    }
   ],
   "source": [
    "# ScanPy settings\n",
    "sc.settings.verbosity = 0  # verbosity: errors (0), warnings (1), info (2), hints (3)\n",
    "sc.settings.set_figure_params(dpi=120, dpi_save=600, vector_friendly=False)  \n",
    "sc.logging.print_versions()\n",
    "\n",
    "# Matplotlib settings\n",
    "plt.rcParams['pdf.fonttype']=42  # Necessary to export text (rather than curves) in pdf files"
   ]
  },
  {
   "cell_type": "code",
   "execution_count": 3,
   "metadata": {},
   "outputs": [],
   "source": [
    "# Define a function for checking that raw counts matrices are integers...this approximately \n",
    "# *halves* the size of the final X.csv file\n",
    "def safe_convert_to_int(x):\n",
    "    if np.all(np.mod(x, 1) == 0):\n",
    "        print('All elements are verified integers, converting to int array')\n",
    "        return x.astype(int)\n",
    "    else:\n",
    "        print('Some elements are not integers, doing nothing')\n",
    "        return x"
   ]
  },
  {
   "cell_type": "markdown",
   "metadata": {},
   "source": [
    "### mmE9.5"
   ]
  },
  {
   "cell_type": "code",
   "execution_count": 4,
   "metadata": {},
   "outputs": [
    {
     "name": "stdout",
     "output_type": "stream",
     "text": [
      "All elements are verified integers, converting to int array\n"
     ]
    },
    {
     "name": "stderr",
     "output_type": "stream",
     "text": [
      "writing '.csv' files to CSV_191007/mmE95\n"
     ]
    },
    {
     "name": "stdout",
     "output_type": "stream",
     "text": [
      "AnnData object with n_obs × n_vars = 4367 × 40523 \n",
      "    obs: 'batch', 'cell_names', 'library_id', 'n_counts', 'unique_cell_id', 'doublet_scores', 'predicted_doublets', 'n_genes', 'n_counts_pre_norm', 'leiden', 'louvain'\n",
      "    var: 'highly_variable', 'means', 'dispersions', 'dispersions_norm'\n",
      "    uns: 'leiden', 'leiden_colors', 'louvain', 'louvain_colors', 'neighbors', 'pca'\n",
      "    obsm: 'X_pca', 'X_tsne', 'X_umap'\n",
      "    varm: 'PCs'\n"
     ]
    }
   ],
   "source": [
    "# Load the doublet-filtered version of the dataset and revert to 'raw.X'\n",
    "mmE95_df = sc.read('../mmE95/Diaz2019_mmE95df.h5ad')\n",
    "mmE95_df.X = safe_convert_to_int(mmE95_df.raw.X.todense())\n",
    "mmE95_df.write_csvs('CSV_191007/mmE95', skip_data=False)\n",
    "print(mmE95_df)"
   ]
  },
  {
   "cell_type": "markdown",
   "metadata": {},
   "source": [
    "### mmESC"
   ]
  },
  {
   "cell_type": "code",
   "execution_count": 5,
   "metadata": {},
   "outputs": [
    {
     "name": "stdout",
     "output_type": "stream",
     "text": [
      "All elements are verified integers, converting to int array\n"
     ]
    },
    {
     "name": "stderr",
     "output_type": "stream",
     "text": [
      "writing '.csv' files to CSV_191007/mmESC_X\n"
     ]
    },
    {
     "name": "stdout",
     "output_type": "stream",
     "text": [
      "AnnData object with n_obs × n_vars = 21478 × 40523 \n",
      "    obs: 'batch', 'cell_names', 'library_id', 'n_counts', 'unique_cell_id', 'time_id', 'sample_id', 'n_genes'\n"
     ]
    },
    {
     "name": "stderr",
     "output_type": "stream",
     "text": [
      "writing '.csv' files to CSV_191007/mmESC\n"
     ]
    },
    {
     "name": "stdout",
     "output_type": "stream",
     "text": [
      "AnnData object with n_obs × n_vars = 21478 × 40523 \n",
      "    obs: 'batch', 'cell_names', 'library_id', 'n_counts', 'unique_cell_id', 'time_id', 'sample_id', 'n_genes', 'n_counts_pre_norm', 'leiden', 'louvain', 'pr_NearestNeighbors', 'pr_RandomForest', 'pr_NeuralNet', 'pr_LDA', '_', 'PAGAFlag', 'dpt_pseudotime'\n",
      "    var: 'highly_variable', 'means', 'dispersions', 'dispersions_norm'\n",
      "    uns: 'PAGAFlag_colors', 'PAGAFlag_sizes', 'diffmap_evals', 'draw_graph', 'iroot', 'leiden', 'leiden_colors', 'library_id_colors', 'louvain', 'louvain_colors', 'louvain_sizes', 'neighbors', 'paga', 'pca', 'pr_LDA_colors', 'pr_NearestNeighbors_colors', 'pr_NeuralNet_colors', 'pr_RandomForest_colors', 'rank_genes_groups', 'time_id_colors'\n",
      "    obsm: 'X_pca', 'X_draw_graph_fa', 'proba_NearestNeighbors', 'proba_RandomForest', 'proba_NeuralNet', 'proba_LDA', 'X_diffmap'\n",
      "    varm: 'PCs'\n"
     ]
    }
   ],
   "source": [
    "# For raw data matrix: load the original 'loaded' version of the dataset, repeat pp.filter_cells\n",
    "mmESC = sc.read('../mmES/Diaz2019_mmES_loaded.h5ad')\n",
    "sc.pp.filter_cells(mmESC, min_genes=250)\n",
    "mmESC.X = safe_convert_to_int(mmESC.X.todense())\n",
    "mmESC.write_csvs('CSV_191007/mmESC_X', skip_data=False)\n",
    "print(mmESC)\n",
    "\n",
    "# For annotations, use the 'analyzed' version\n",
    "mmESC = sc.read('../mmES/Diaz2019_mmES_analyzed.h5ad')\n",
    "mmESC.write_csvs('CSV_191007/mmESC', skip_data=True)\n",
    "print(mmESC)"
   ]
  },
  {
   "cell_type": "markdown",
   "metadata": {},
   "source": [
    "### hsIPSC"
   ]
  },
  {
   "cell_type": "code",
   "execution_count": 6,
   "metadata": {},
   "outputs": [
    {
     "name": "stdout",
     "output_type": "stream",
     "text": [
      "All elements are verified integers, converting to int array\n"
     ]
    },
    {
     "name": "stderr",
     "output_type": "stream",
     "text": [
      "writing '.csv' files to CSV_191007/hsIPSC_X\n"
     ]
    },
    {
     "name": "stdout",
     "output_type": "stream",
     "text": [
      "AnnData object with n_obs × n_vars = 14750 × 24338 \n",
      "    obs: 'batch', 'cell_names', 'library_id', 'n_counts', 'unique_cell_id', 'time_id', 'n_genes'\n",
      "    var: 'n_cells'\n"
     ]
    },
    {
     "name": "stderr",
     "output_type": "stream",
     "text": [
      "writing '.csv' files to CSV_191007/hsIPSC\n"
     ]
    },
    {
     "name": "stdout",
     "output_type": "stream",
     "text": [
      "AnnData object with n_obs × n_vars = 14750 × 24338 \n",
      "    obs: 'batch', 'cell_names', 'library_id', 'n_counts', 'unique_cell_id', 'time_id', 'n_genes', 'n_counts_pre_norm', 'S_score', 'G2M_score', 'phase', 'leiden', 'louvain', 'pr_NearestNeighbors', 'pr_RandomForest', 'pr_NeuralNet', 'pr_LDA', '_', 'PAGAFlag', 'dpt_pseudotime'\n",
      "    var: 'highly_variable', 'means', 'dispersions', 'dispersions_norm', 'n_cells'\n",
      "    uns: 'PAGAFlag_colors', 'PAGAFlag_sizes', 'diffmap_evals', 'draw_graph', 'iroot', 'leiden', 'leiden_colors', 'library_id_colors', 'louvain', 'louvain_colors', 'neighbors', 'paga', 'pca', 'time_id_colors'\n",
      "    obsm: 'X_pca', 'X_draw_graph_fa', 'proba_NearestNeighbors', 'proba_RandomForest', 'proba_NeuralNet', 'proba_LDA', 'X_diffmap'\n",
      "    varm: 'PCs'\n"
     ]
    }
   ],
   "source": [
    "# For raw data: use original 'loaded' version of the dataset, repeat pp.filter_cells and pp.filter_genes\n",
    "hsIPSC = sc.read('../hsIPS/Diaz2019_hsiPS_loaded.h5ad')\n",
    "sc.pp.filter_cells(hsIPSC, min_genes=250)\n",
    "sc.pp.filter_genes(hsIPSC, min_cells=1)\n",
    "hsIPSC.X = safe_convert_to_int(hsIPSC.X.todense())\n",
    "hsIPSC.write_csvs('CSV_191007/hsIPSC_X', skip_data=False)\n",
    "print(hsIPSC)\n",
    "\n",
    "# For annotations, use the 'full' version\n",
    "hsIPSC = sc.read('../hsIPS/Diaz2019_hsiPS_full.h5ad')\n",
    "hsIPSC.write_csvs('CSV_191007/hsIPSC', skip_data=True)\n",
    "print(hsIPSC)"
   ]
  }
 ],
 "metadata": {
  "kernelspec": {
   "display_name": "Python 3",
   "language": "python",
   "name": "python3"
  },
  "language_info": {
   "codemirror_mode": {
    "name": "ipython",
    "version": 3
   },
   "file_extension": ".py",
   "mimetype": "text/x-python",
   "name": "python",
   "nbconvert_exporter": "python",
   "pygments_lexer": "ipython3",
   "version": "3.6.8"
  }
 },
 "nbformat": 4,
 "nbformat_minor": 4
}
